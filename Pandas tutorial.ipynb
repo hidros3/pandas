{
 "metadata": {
  "name": "",
  "signature": "sha256:6eac4f8e0a38542e6f6c2b04682504ea450e981126d3b8cc46c38da48e2600c5"
 },
 "nbformat": 3,
 "nbformat_minor": 0,
 "worksheets": [
  {
   "cells": [
    {
     "cell_type": "markdown",
     "metadata": {},
     "source": [
      "Import Libraries"
     ]
    },
    {
     "cell_type": "code",
     "collapsed": false,
     "input": [
      "import pandas as pd\n",
      "import numpy as np\n",
      "import matplotlib as plt"
     ],
     "language": "python",
     "metadata": {},
     "outputs": [],
     "prompt_number": 2
    },
    {
     "cell_type": "markdown",
     "metadata": {},
     "source": [
      "**Essensial Setting**"
     ]
    },
    {
     "cell_type": "code",
     "collapsed": false,
     "input": [
      "pd.set_option('display.notebook_repr_html', False)"
     ],
     "language": "python",
     "metadata": {},
     "outputs": []
    },
    {
     "cell_type": "code",
     "collapsed": false,
     "input": [
      "s = pd.Series([1,3,4,5, np.nan, 6, 8])"
     ],
     "language": "python",
     "metadata": {},
     "outputs": [],
     "prompt_number": 4
    },
    {
     "cell_type": "code",
     "collapsed": false,
     "input": [
      "s"
     ],
     "language": "python",
     "metadata": {},
     "outputs": [
      {
       "metadata": {},
       "output_type": "pyout",
       "prompt_number": 5,
       "text": [
        "0     1\n",
        "1     3\n",
        "2     4\n",
        "3     5\n",
        "4   NaN\n",
        "5     6\n",
        "6     8\n",
        "dtype: float64"
       ]
      }
     ],
     "prompt_number": 5
    },
    {
     "cell_type": "code",
     "collapsed": false,
     "input": [
      "dates = pd.date_range('20140101',periods=6)"
     ],
     "language": "python",
     "metadata": {},
     "outputs": [],
     "prompt_number": 8
    },
    {
     "cell_type": "code",
     "collapsed": false,
     "input": [
      "dates"
     ],
     "language": "python",
     "metadata": {},
     "outputs": [
      {
       "metadata": {},
       "output_type": "pyout",
       "prompt_number": 9,
       "text": [
        "<class 'pandas.tseries.index.DatetimeIndex'>\n",
        "[2014-01-01, ..., 2014-01-06]\n",
        "Length: 6, Freq: D, Timezone: None"
       ]
      }
     ],
     "prompt_number": 9
    },
    {
     "cell_type": "code",
     "collapsed": false,
     "input": [
      "df = pd.DataFrame(np.random.randn(6,4), index=dates, columns=list('ABCD'))"
     ],
     "language": "python",
     "metadata": {},
     "outputs": [],
     "prompt_number": 11
    },
    {
     "cell_type": "code",
     "collapsed": false,
     "input": [
      "df"
     ],
     "language": "python",
     "metadata": {},
     "outputs": [
      {
       "metadata": {},
       "output_type": "pyout",
       "prompt_number": 33,
       "text": [
        "                   A         B         C         D\n",
        "2014-01-01 -1.101025  1.135935 -0.934252 -0.996721\n",
        "2014-01-02  1.055419 -1.240493 -1.058654 -0.157867\n",
        "2014-01-03 -0.675581 -0.637245  0.788649 -0.204160\n",
        "2014-01-04 -0.986076  1.030337 -0.339544  0.472819\n",
        "2014-01-05 -0.310238  1.402972 -0.566994 -0.448131\n",
        "2014-01-06 -0.745726  1.780632 -1.240169 -0.349100"
       ]
      }
     ],
     "prompt_number": 33
    },
    {
     "cell_type": "code",
     "collapsed": false,
     "input": [
      "df2 = pd.DataFrame({ 'A' :1.,\n",
      "                     'B' : pd.Timestamp('20130102'),\n",
      "                     'C' : pd.Series(1, index=list(range(4)), dtype='float32'),\n",
      "                     'D' : np.array([3] * 4, dtype = 'int32'),\n",
      "                     'E' : pd.Categorical([\"test\",\"train\",\"test\",\"train\"]),\n",
      "                     'F' : 'foo' })"
     ],
     "language": "python",
     "metadata": {},
     "outputs": [],
     "prompt_number": 14
    },
    {
     "cell_type": "code",
     "collapsed": false,
     "input": [
      "df2"
     ],
     "language": "python",
     "metadata": {},
     "outputs": [
      {
       "metadata": {},
       "output_type": "pyout",
       "prompt_number": 32,
       "text": [
        "   A          B  C  D      E    F\n",
        "0  1 2013-01-02  1  3   test  foo\n",
        "1  1 2013-01-02  1  3  train  foo\n",
        "2  1 2013-01-02  1  3   test  foo\n",
        "3  1 2013-01-02  1  3  train  foo"
       ]
      }
     ],
     "prompt_number": 32
    },
    {
     "cell_type": "code",
     "collapsed": false,
     "input": [
      "df2.dtypes"
     ],
     "language": "python",
     "metadata": {},
     "outputs": [
      {
       "metadata": {},
       "output_type": "pyout",
       "prompt_number": 16,
       "text": [
        "A           float64\n",
        "B    datetime64[ns]\n",
        "C           float32\n",
        "D             int32\n",
        "E          category\n",
        "F            object\n",
        "dtype: object"
       ]
      }
     ],
     "prompt_number": 16
    },
    {
     "cell_type": "code",
     "collapsed": false,
     "input": [
      "df.head()"
     ],
     "language": "python",
     "metadata": {},
     "outputs": [
      {
       "metadata": {},
       "output_type": "pyout",
       "prompt_number": 31,
       "text": [
        "                   A         B         C         D\n",
        "2014-01-01 -1.101025  1.135935 -0.934252 -0.996721\n",
        "2014-01-02  1.055419 -1.240493 -1.058654 -0.157867\n",
        "2014-01-03 -0.675581 -0.637245  0.788649 -0.204160\n",
        "2014-01-04 -0.986076  1.030337 -0.339544  0.472819\n",
        "2014-01-05 -0.310238  1.402972 -0.566994 -0.448131"
       ]
      }
     ],
     "prompt_number": 31
    },
    {
     "cell_type": "code",
     "collapsed": false,
     "input": [
      "df.index"
     ],
     "language": "python",
     "metadata": {},
     "outputs": [
      {
       "metadata": {},
       "output_type": "pyout",
       "prompt_number": 19,
       "text": [
        "<class 'pandas.tseries.index.DatetimeIndex'>\n",
        "[2014-01-01, ..., 2014-01-06]\n",
        "Length: 6, Freq: D, Timezone: None"
       ]
      }
     ],
     "prompt_number": 19
    },
    {
     "cell_type": "code",
     "collapsed": false,
     "input": [
      "df.columns"
     ],
     "language": "python",
     "metadata": {},
     "outputs": [
      {
       "metadata": {},
       "output_type": "pyout",
       "prompt_number": 20,
       "text": [
        "Index([u'A', u'B', u'C', u'D'], dtype='object')"
       ]
      }
     ],
     "prompt_number": 20
    },
    {
     "cell_type": "code",
     "collapsed": false,
     "input": [
      "df.values"
     ],
     "language": "python",
     "metadata": {},
     "outputs": [
      {
       "metadata": {},
       "output_type": "pyout",
       "prompt_number": 21,
       "text": [
        "array([[-1.10102486,  1.1359353 , -0.9342525 , -0.99672124],\n",
        "       [ 1.05541862, -1.24049265, -1.05865361, -0.15786686],\n",
        "       [-0.67558062, -0.63724503,  0.78864889, -0.20416046],\n",
        "       [-0.98607631,  1.0303366 , -0.33954386,  0.47281892],\n",
        "       [-0.31023837,  1.40297195, -0.56699362, -0.44813078],\n",
        "       [-0.74572628,  1.7806325 , -1.24016937, -0.34910026]])"
       ]
      }
     ],
     "prompt_number": 21
    },
    {
     "cell_type": "code",
     "collapsed": false,
     "input": [
      "df.describe()"
     ],
     "language": "python",
     "metadata": {},
     "outputs": [
      {
       "metadata": {},
       "output_type": "pyout",
       "prompt_number": 30,
       "text": [
        "              A         B         C         D\n",
        "count  6.000000  6.000000  6.000000  6.000000\n",
        "mean  -0.460538  0.578690 -0.558494 -0.280527\n",
        "std    0.791796  1.218732  0.737406  0.476264\n",
        "min   -1.101025 -1.240493 -1.240169 -0.996721\n",
        "25%   -0.925989 -0.220350 -1.027553 -0.423373\n",
        "50%   -0.710653  1.083136 -0.750623 -0.276630\n",
        "75%   -0.401574  1.336213 -0.396406 -0.169440\n",
        "max    1.055419  1.780632  0.788649  0.472819"
       ]
      }
     ],
     "prompt_number": 30
    },
    {
     "cell_type": "code",
     "collapsed": false,
     "input": [],
     "language": "python",
     "metadata": {},
     "outputs": [],
     "prompt_number": 28
    },
    {
     "cell_type": "code",
     "collapsed": false,
     "input": [
      "df"
     ],
     "language": "python",
     "metadata": {},
     "outputs": [
      {
       "metadata": {},
       "output_type": "pyout",
       "prompt_number": 29,
       "text": [
        "                   A         B         C         D\n",
        "2014-01-01 -1.101025  1.135935 -0.934252 -0.996721\n",
        "2014-01-02  1.055419 -1.240493 -1.058654 -0.157867\n",
        "2014-01-03 -0.675581 -0.637245  0.788649 -0.204160\n",
        "2014-01-04 -0.986076  1.030337 -0.339544  0.472819\n",
        "2014-01-05 -0.310238  1.402972 -0.566994 -0.448131\n",
        "2014-01-06 -0.745726  1.780632 -1.240169 -0.349100"
       ]
      }
     ],
     "prompt_number": 29
    },
    {
     "cell_type": "code",
     "collapsed": false,
     "input": [],
     "language": "python",
     "metadata": {},
     "outputs": []
    }
   ],
   "metadata": {}
  }
 ]
}